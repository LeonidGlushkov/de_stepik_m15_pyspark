{
  "nbformat": 4,
  "nbformat_minor": 0,
  "metadata": {
    "colab": {
      "provenance": []
    },
    "kernelspec": {
      "name": "python3",
      "display_name": "Python 3"
    },
    "language_info": {
      "name": "python"
    }
  },
  "cells": [
    {
      "cell_type": "code",
      "execution_count": 1,
      "metadata": {
        "colab": {
          "base_uri": "https://localhost:8080/"
        },
        "id": "sWf9dkQ9ehYf",
        "outputId": "04498f3c-593a-405e-8552-c84d545cceaa"
      },
      "outputs": [
        {
          "output_type": "stream",
          "name": "stdout",
          "text": [
            "pip 24.1.2 from /usr/local/lib/python3.11/dist-packages/pip (python 3.11)\n",
            "Requirement already satisfied: pyspark in /usr/local/lib/python3.11/dist-packages (3.5.4)\n",
            "Requirement already satisfied: py4j in /usr/local/lib/python3.11/dist-packages (0.10.9.7)\n"
          ]
        }
      ],
      "source": [
        "!pip --version\n",
        "!pip install pyspark py4j"
      ]
    },
    {
      "cell_type": "code",
      "source": [
        "from pyspark.sql import SparkSession\n",
        "from pyspark.sql.functions import col, count, to_date, sum as _sum\n",
        "\n",
        "spark = SparkSession.builder.appName('MyApp')\\\n",
        "    .config('spark.master', 'local[*]') \\\n",
        "    .getOrCreate()\n",
        "\n",
        "df_serv_logs = spark.read.csv('/content/sample_data/web_server_logs.csv', header=True, inferSchema=True)\n",
        "\n",
        "#количество запросов для каждого IP, top 10 самых активных IP.\n",
        "\n",
        "df_top_ten_ip = df_serv_logs.groupBy('ip')\\\n",
        "  .agg(count('method').alias('request_count'))\\\n",
        "  .orderBy(col('request_count').desc())\\\n",
        "  .limit(10)\n",
        "\n",
        "print('Top 10 active IP addresses:')\n",
        "df_top_ten_ip.show()\n",
        "\n",
        "#количество запросов для каждого метода.\n",
        "df_counter_requests = df_serv_logs.groupBy('method') \\\n",
        "    .agg(count('method').alias('method_count')) \\\n",
        "    .orderBy('method_count')\n",
        "\n",
        "\n",
        "print('Request count by HTTP method:')\n",
        "df_counter_requests.show()\n",
        "\n",
        "# Фильтрация, группировка и подсчёт запросов с кодом ответа 404\n",
        "\n",
        "df_request_404 = df_serv_logs.filter(col('response_code') == '404') \\\n",
        "      .groupBy('response_code')\\\n",
        "      .agg(count('response_code').alias('count_404'))\\\n",
        "      .collect()[0]['count_404']\n",
        "\n",
        "print(f'Number of 404 response codes: {df_request_404}')\n",
        "\n",
        "# Группировка данных по дате, суммирование размеров ответов и сортировка по дате\n",
        "\n",
        "df_group_date = df_serv_logs.select(to_date(col('timestamp')).alias('date'), 'response_size') \\\n",
        "    .groupBy('date') \\\n",
        "    .agg(_sum('response_size').alias('total_response_size')) \\\n",
        "    .orderBy('date')\n",
        "\n",
        "print(f'Total response size by day:')\n",
        "df_group_date.show()"
      ],
      "metadata": {
        "colab": {
          "base_uri": "https://localhost:8080/"
        },
        "id": "uiYHAn0dfiqa",
        "outputId": "1875a0d4-6821-4faf-c27e-20b30b74fcbf"
      },
      "execution_count": 3,
      "outputs": [
        {
          "output_type": "stream",
          "name": "stdout",
          "text": [
            "Top 10 active IP addresses:\n",
            "+---------------+-------------+\n",
            "|             ip|request_count|\n",
            "+---------------+-------------+\n",
            "| 97.112.121.128|            1|\n",
            "| 80.217.143.120|            1|\n",
            "| 216.127.142.11|            1|\n",
            "|   168.92.46.63|            1|\n",
            "| 85.124.111.115|            1|\n",
            "|  7.182.110.213|            1|\n",
            "|   77.37.152.79|            1|\n",
            "| 165.148.226.15|            1|\n",
            "|   216.61.45.89|            1|\n",
            "|119.213.102.240|            1|\n",
            "+---------------+-------------+\n",
            "\n",
            "Request count by HTTP method:\n",
            "+------+------------+\n",
            "|method|method_count|\n",
            "+------+------------+\n",
            "|  POST|       18550|\n",
            "|   GET|       18778|\n",
            "|   PUT|       18824|\n",
            "|DELETE|       19299|\n",
            "+------+------------+\n",
            "\n",
            "Number of 404 response codes: 18984\n",
            "Total response size by day:\n",
            "+----------+-------------------+\n",
            "|      date|total_response_size|\n",
            "+----------+-------------------+\n",
            "|2025-01-01|           15484129|\n",
            "|2025-01-02|           15649464|\n",
            "|2025-01-03|           15787867|\n",
            "|2025-01-04|           15335916|\n",
            "|2025-01-05|           14938476|\n",
            "|2025-01-06|           15695916|\n",
            "|2025-01-07|           15071974|\n",
            "|2025-01-08|           15852233|\n",
            "|2025-01-09|           15918386|\n",
            "|2025-01-10|           15052493|\n",
            "|2025-01-11|           15992532|\n",
            "|2025-01-12|           16027417|\n",
            "|2025-01-13|           15196879|\n",
            "|2025-01-14|           15767777|\n",
            "|2025-01-15|           15757345|\n",
            "|2025-01-16|           15091808|\n",
            "|2025-01-17|           15400860|\n",
            "|2025-01-18|           15517250|\n",
            "|2025-01-19|           16046466|\n",
            "|2025-01-20|           15648029|\n",
            "+----------+-------------------+\n",
            "only showing top 20 rows\n",
            "\n"
          ]
        }
      ]
    }
  ]
}